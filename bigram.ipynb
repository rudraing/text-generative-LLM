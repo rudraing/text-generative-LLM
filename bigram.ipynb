{
 "cells": [
  {
   "cell_type": "code",
   "execution_count": 1,
   "id": "cd044051-b8c7-46d2-9de7-cf580c401aaa",
   "metadata": {},
   "outputs": [],
   "source": [
    "import pandas\n",
    "#imorting os and sys to add the path of different site_package\\dir to jupyter notebook\n",
    "import os\n",
    "import sys\n",
    "directory_path = os.path.abspath(os.path.join('F:\\LLM-project\\cuda\\Lib\\site-packages'))\n",
    "if directory_path not in sys.path:\n",
    "    sys.path.append(directory_path)\n",
    "import torch\n",
    "import torch.nn as nn\n",
    "from torch.nn import functional as F"
   ]
  },
  {
   "cell_type": "code",
   "execution_count": 2,
   "id": "92bc7080-f4de-4b60-9418-868f5efbed4f",
   "metadata": {},
   "outputs": [],
   "source": [
    "#block_size is the numbre of blocks/list in the stacks\n",
    "#batch_size is the number of values int the tensor\n",
    "batch_size=4\n",
    "block_size=8\n",
    "max_iters=1000\n",
    "#eval_interval=2500\n",
    "learning_rate=3e-4\n",
    "eval_iters=250\n",
    "dropout=0.2"
   ]
  },
  {
   "cell_type": "code",
   "execution_count": 3,
   "id": "0479128c-13ac-48a4-bf79-371590c29374",
   "metadata": {},
   "outputs": [],
   "source": [
    "#this checks if gpu is available or not for fast computation\n",
    "#as cpu performs task in sequential manner which is time consuming for training and testing purposes\n",
    "#gpu is used to run more than task parrallely\n",
    "device ='cuda' if torch.cuda.is_available() else 'cpu'"
   ]
  },
  {
   "cell_type": "code",
   "execution_count": 4,
   "id": "072a3248-22d8-4457-8dc3-591f246ced66",
   "metadata": {},
   "outputs": [],
   "source": [
    "with open('wizard_of_oz.txt','r',encoding='utf-8') as f:\n",
    "    text=f.read()\n",
    "chars=sorted(set(text))\n",
    "vocab_size=len(chars)"
   ]
  },
  {
   "cell_type": "code",
   "execution_count": 5,
   "id": "506d91a7-db6d-44f5-916d-a9ac9a5217db",
   "metadata": {},
   "outputs": [],
   "source": [
    "#encoding and decoding\n",
    "#mapping from string to int\n",
    "# string_to_int is a dictionnary which is mode of key value pair of char and its index in the chars set\n",
    "string_to_int={ch:i for i,ch in enumerate(chars)}\n",
    "\n",
    "#mapping from int to string \n",
    "# int_to_String is a dictionnary which is mode of key value pair of index and its value in the chars set\n",
    "int_to_string={i:ch for i,ch in enumerate(chars)}\n",
    "\n",
    "#encode is a list  function which input a string and output a list off indexs of the characters in the string \n",
    "encode=lambda s:[string_to_int[c] for c in s]\n",
    "\n",
    "#lambda function takes a list of integers l as input and returns a string by decoding each integer in the input list using the int_to_string dictionary.\n",
    "decode=lambda l:''.join([int_to_string[i] for i in l])\n"
   ]
  },
  {
   "cell_type": "code",
   "execution_count": 6,
   "id": "8f9dd594-42d6-4292-8903-badf077d63f1",
   "metadata": {},
   "outputs": [],
   "source": [
    "#tensors are  multi-dimensional arrays or generalizations of matrices that can have any number of dimensions. \n",
    "#data is list(tensor) which stores the character in encoded form\n",
    "data = torch.tensor(encode(text), dtype=torch.long)\n",
    "#print(data[:10])"
   ]
  },
  {
   "cell_type": "code",
   "execution_count": 7,
   "id": "5dcb0b14-b05c-4c71-92ff-d8f55f42e15a",
   "metadata": {},
   "outputs": [],
   "source": [
    "#we are dividing the data into training and validation dataset \n",
    "#n is represnting 80% of the len data\n",
    "# here we are dividing training:validating in 80:20 ratio\n",
    "n=int(0.8*len(data))\n",
    "train_data=data[:n]\n",
    "val_data=data[n:]"
   ]
  },
  {
   "cell_type": "code",
   "execution_count": 8,
   "id": "78eb6be2-629c-4d2c-95a4-a80c766b63ea",
   "metadata": {},
   "outputs": [
    {
     "name": "stdout",
     "output_type": "stream",
     "text": [
      "input\n",
      "tensor([[64, 58, 57,  1, 28, 68, 71, 68],\n",
      "        [62, 65, 58, 67, 56, 58,  1, 72],\n",
      "        [65, 65,  1, 60, 58, 73,  1, 66],\n",
      "        [65,  0, 73, 61, 58, 78,  1, 69]])\n",
      "targets\n",
      "tensor([[58, 57,  1, 28, 68, 71, 68, 73],\n",
      "        [65, 58, 67, 56, 58,  1, 72, 74],\n",
      "        [65,  1, 60, 58, 73,  1, 66, 78],\n",
      "        [ 0, 73, 61, 58, 78,  1, 69, 71]])\n"
     ]
    }
   ],
   "source": [
    "\n",
    "#get_batch is used select a specific data from the dataset \n",
    "def get_batch(split):\n",
    "    \n",
    "    #data is the the tensor on which we are working on \n",
    "    #we initially divided the dataset into 80:20 into train vs test\n",
    "    data=train_data if split == 'train' else val_data\n",
    "    \n",
    "    #ix is list of random integers of length batch_size from starting to data-block_size\n",
    "    ix=torch.randint(len(data)-block_size,(batch_size,))\n",
    "    \n",
    "    #x is the stack of training dataset of length 8\n",
    "    x=torch.stack([data[i:i+block_size] for i in ix])\n",
    "    \n",
    "    #y is the same stack with one offset for predicting values\n",
    "    y=torch.stack([data[i+1:i+block_size+1] for i in ix])\n",
    "    \n",
    "    #x,y shift to gpu(Cuda) if it is available\n",
    "    x,y=x.to(device), y.to(device)\n",
    "    \n",
    "    #print(device)\n",
    "    #returning pair of stack x and y\n",
    "    return x,y\n",
    "x,y = get_batch('train')\n",
    "print('input')\n",
    "print(x)\n",
    "print('targets')\n",
    "print(y)"
   ]
  },
  {
   "cell_type": "code",
   "execution_count": 9,
   "id": "897871fe-6be8-4c3f-9b57-1e9756d4ce28",
   "metadata": {},
   "outputs": [],
   "source": [
    "#loss estimation \n",
    "# This decorator is used before defining the estimate_loss function. \n",
    "#It temporarily disables gradient tracking for all the operations inside the function.\n",
    "@torch.no_grad()\n",
    "\n",
    "def estimate_loss():\n",
    "    #out is initialized as an empty dictionary. It will be used to store the estimated losses for the training and validation datasets.\n",
    "    out={}\n",
    "    # sets the model into evaluation mode.\n",
    "    # In evaluation mode, the model behaves differently from training mode, typically disabling features like dropout and batch normalization.\n",
    "    model.eval()\n",
    "    \n",
    "    for split in ['train','val']: # estimate the loss separately for both the training and validation datasets.\n",
    "        \n",
    "        losses =torch.zeros(eval_iters)\n",
    "        for k in range(eval_iters):\n",
    "            X,Y = get_batch(split)\n",
    "\n",
    "            # (model) is used to compute predictions (logits) and calculate the loss (loss) between the predictions and the target data.\n",
    "            logits,loss=model(X,Y)\n",
    "\n",
    "            #This keeps track of the loss for each iteration.\n",
    "            losses[k]=loss.item()\n",
    "\n",
    "        # calculates the mean (average) of the losses obtained during those iterations. \n",
    "        out[split]=losses.mean()\n",
    "    model.train()\n",
    "\n",
    "    #estimated losses for both the training and validation datasets.\n",
    "    return out"
   ]
  },
  {
   "cell_type": "code",
   "execution_count": 10,
   "id": "d99a8268-00e6-468b-b0fd-91568e40725f",
   "metadata": {},
   "outputs": [
    {
     "name": "stdout",
     "output_type": "stream",
     "text": [
      "when input is  tensor([80])  then target is  tensor(0)\n",
      "when input is  tensor([80,  0])  then target is  tensor(1)\n",
      "when input is  tensor([80,  0,  1])  then target is  tensor(1)\n",
      "when input is  tensor([80,  0,  1,  1])  then target is  tensor(28)\n",
      "when input is  tensor([80,  0,  1,  1, 28])  then target is  tensor(39)\n",
      "when input is  tensor([80,  0,  1,  1, 28, 39])  then target is  tensor(42)\n",
      "when input is  tensor([80,  0,  1,  1, 28, 39, 42])  then target is  tensor(39)\n",
      "when input is  tensor([80,  0,  1,  1, 28, 39, 42, 39])  then target is  tensor(44)\n"
     ]
    }
   ],
   "source": [
    "x=data[:block_size]\n",
    "y=data[1:block_size+1]\n",
    "for i in range(block_size):\n",
    "    context=x[:i+1]\n",
    "    pred=y[i]\n",
    "    print(\"when input is \",context,\" then target is \",pred)"
   ]
  },
  {
   "cell_type": "code",
   "execution_count": 11,
   "id": "e8e49fbb-04e4-4ad3-98b9-2330ab1d1f60",
   "metadata": {},
   "outputs": [
    {
     "name": "stdout",
     "output_type": "stream",
     "text": [
      " KJuk)u4qV&1!b\n",
      "0t3!hsw'BH1u4!Pq:Th5S8V5t54B \"fiGhos\n"
     ]
    }
   ],
   "source": [
    "class BigramLanguageModel(nn.Module):\n",
    "    def __init__ (self,vocab_size) :\n",
    "        super().__init__()\n",
    "        self.token_embedding_table=nn.Embedding(vocab_size,vocab_size)\n",
    "    def forward(self,index,targets=None):\n",
    "        logits=self.token_embedding_table(index)\n",
    "        if targets==None:\n",
    "            loss=None\n",
    "        else :\n",
    "            #.shape is used the unpack the items of logits  into B ,T , C\n",
    "            # B is for batch, T is for time ,C is for number of class\n",
    "            B, T, C = logits.shape\n",
    "            \n",
    "            #.view is used to pack them alternate of .shape\n",
    "            logits=logits.view(B*T,C)\n",
    "            targets=targets.view(B*T)\n",
    "            \n",
    "            #This function computes the loss between the predicted logits (logits) and the ground truth labels (targets).\n",
    "            loss=F.cross_entropy(logits,targets)\n",
    "            \n",
    "        return logits, loss\n",
    "    #  purpose of generate func -generate a sequence of tokens or indices given an initial context (index)\n",
    "    #  and a maximum number of new tokens (max_new_tokens).\n",
    "    def generate(self, index, max_new_tokens):\n",
    "        # index is (B, T) array of indices in the current context\n",
    "        # Create a new tensor for the generated sequence\n",
    "        generated_sequence = index\n",
    "    \n",
    "        for _ in range(max_new_tokens):\n",
    "            # get the predictions\n",
    "            logits, loss = self.forward(generated_sequence)\n",
    "            \n",
    "            #focus only on the last time step\n",
    "            logits=logits[:,-1,:]\n",
    "            \n",
    "            # focus only on the last time step\n",
    "            probs = F.softmax(logits, dim=-1)\n",
    "            \n",
    "            # sample from the distribution\n",
    "            num_samples=1\n",
    "            index_next = torch.multinomial(probs, num_samples)\n",
    "    \n",
    "            # append sampled index to the running sequence\n",
    "            generated_sequence = torch.cat((generated_sequence, index_next), dim=1)\n",
    "    \n",
    "        return generated_sequence\n",
    "# the \"Forward\" function makes predictions based on input, and the \"Generate\" function uses those predictions to create new text,\n",
    "# like continuing a story or generating sentences.\n",
    "\n",
    "#we are creating an instance of BigramLanguageModel name model\n",
    "model=BigramLanguageModel(vocab_size)\n",
    "\n",
    "#m is the alternate verson of model in but running in gpu(if available)\n",
    "m = model.to(device)\n",
    "\n",
    "#we initially declaring a context of 1-dim zero as our starting chars\n",
    "context=torch.ones((1,1),dtype=torch.long,device=device)\n",
    "\n",
    "#generated_chars is using class for predicting the next words for context and predticting upto 500 words \n",
    "generated_chars=decode(m.generate(context,max_new_tokens=50)[0].tolist())\n",
    "print(generated_chars)\n",
    "        \n",
    "        "
   ]
  },
  {
   "cell_type": "code",
   "execution_count": 12,
   "id": "e4d33342-d2cf-4953-900a-ad7d25e7369d",
   "metadata": {},
   "outputs": [
    {
     "name": "stdout",
     "output_type": "stream",
     "text": [
      "step:0,train loss: 4.911,val loss: 4.882\n",
      "step:250,train loss: 4.823,val loss: 4.813\n",
      "step:500,train loss: 4.742,val loss: 4.760\n",
      "step:750,train loss: 4.691,val loss: 4.700\n",
      "4.772038459777832\n"
     ]
    }
   ],
   "source": [
    "#creating a pytorch optimizer \n",
    "# training a neural language model using the AdamW optimizer\n",
    "optimizer = torch.optim.AdamW(model.parameters(),lr=learning_rate)\n",
    "for iter in range(max_iters):\n",
    "\n",
    "    if iter % eval_iters==0 :\n",
    "        losses=estimate_loss()\n",
    "        print(f\"step:{iter},train loss: {losses['train']:.3f},val loss: {losses['val']:.3f}\")\n",
    "    #sample a batch of data \n",
    "    xb,yb=get_batch('train')\n",
    "    \n",
    "    #evaluate the loss\n",
    "    logits,loss=model.forward(xb,yb)\n",
    "    \n",
    "    #This line clears (zeros out) the gradients of the model's parameters.\n",
    "    # Gradients accumulate during each backward pass, so this step ensures that the gradients start fresh for the current batch.\n",
    "    optimizer.zero_grad(set_to_none=True)\n",
    "    \n",
    "    # This line computes the gradients of the loss with respect to the model's parameters.\n",
    "    # These gradients are computed to understand how the loss changes as the parameters are adjusted.\n",
    "    loss.backward()\n",
    "\n",
    "    # This line updates the model's parameters based on the computed gradients and the learning rate (lr).\n",
    "    # It effectively performs a parameter update step to minimize the loss.\n",
    "    optimizer.step()\n",
    "    \n",
    "print(loss.item())"
   ]
  },
  {
   "cell_type": "code",
   "execution_count": 13,
   "id": "f4fad0f9-2b2c-4072-b40c-657d4b74ece7",
   "metadata": {},
   "outputs": [
    {
     "name": "stdout",
     "output_type": "stream",
     "text": [
      " H3;﻿ZI97_]dB:dChcR5nn9\n",
      "LLyB4cC!1St[0wg*qcad ZMRfrm\n"
     ]
    }
   ],
   "source": [
    "#we initially declaring a context of 1-dim zero as our starting chars\n",
    "context=torch.ones((1,1),dtype=torch.long,device=device)\n",
    "\n",
    "#generated_chars is using class for predicting the next words for context and predticting upto 500 words \n",
    "generated_chars=decode(m.generate(context,max_new_tokens=50)[0].tolist())\n",
    "print(generated_chars)"
   ]
  },
  {
   "cell_type": "code",
   "execution_count": null,
   "id": "50652fd6-d174-4e63-8173-72ee65c4e998",
   "metadata": {},
   "outputs": [],
   "source": [
    "#  Activation functions are like decision-makers for the neurons (tiny processing units) in a neural network.\n",
    "# transformers are like super-smart readers and writers for computers.\n",
    "#They help computers understand, create, and work with text, making them great at all sorts of language-related tasks\n"
   ]
  }
 ],
 "metadata": {
  "kernelspec": {
   "display_name": "cuda-gpt",
   "language": "python",
   "name": "cuda"
  },
  "language_info": {
   "codemirror_mode": {
    "name": "ipython",
    "version": 3
   },
   "file_extension": ".py",
   "mimetype": "text/x-python",
   "name": "python",
   "nbconvert_exporter": "python",
   "pygments_lexer": "ipython3",
   "version": "3.11.4"
  }
 },
 "nbformat": 4,
 "nbformat_minor": 5
}
