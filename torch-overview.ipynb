{
 "cells": [
  {
   "cell_type": "code",
   "execution_count": 2,
   "id": "603b84c4-ee83-4030-9fa2-0075cb62b823",
   "metadata": {},
   "outputs": [],
   "source": [
    "import os\n",
    "import sys\n",
    "directory_path = os.path.abspath(os.path.join('F:\\LLM-project\\cuda\\Lib\\site-packages'))\n",
    "if directory_path not in sys.path:\n",
    "    sys.path.append(directory_path)\n",
    "import torch\n",
    "import time"
   ]
  },
  {
   "cell_type": "code",
   "execution_count": 3,
   "id": "b281506f-111c-445e-b0f6-595ef0b425a7",
   "metadata": {},
   "outputs": [
    {
     "data": {
      "text/plain": [
       "'cpu'"
      ]
     },
     "execution_count": 3,
     "metadata": {},
     "output_type": "execute_result"
    }
   ],
   "source": [
    "#my laptop doesnot have any dedicated gpu so all the operatoin works on tue cpy \n",
    "device='cuda' if torch.cuda.is_available() else 'cpu'\n",
    "device"
   ]
  },
  {
   "cell_type": "code",
   "execution_count": 4,
   "id": "7f1c7216-5118-4701-a9bc-ed4a5d6d1950",
   "metadata": {},
   "outputs": [],
   "source": [
    "#randint is used to outptut a tensor of length 6 in which values range from -100 and 100\n",
    "randint=torch.randint(-100,100,(6,))"
   ]
  },
  {
   "cell_type": "code",
   "execution_count": 5,
   "id": "0ab64f4f-1eb9-4017-949d-de3b5c4817cb",
   "metadata": {},
   "outputs": [
    {
     "data": {
      "text/plain": [
       "tensor([[1.0000, 2.0000, 3.0000],\n",
       "        [2.3000, 7.0000, 4.0000]])"
      ]
     },
     "execution_count": 5,
     "metadata": {},
     "output_type": "execute_result"
    }
   ],
   "source": [
    "#creating tensor manually \n",
    "tensor=torch.tensor([[1.0,2,3],[2.3,7,4]])\n",
    "tensor"
   ]
  },
  {
   "cell_type": "code",
   "execution_count": 6,
   "id": "b4e8d08d-a177-43dd-8fe0-338314082ac3",
   "metadata": {},
   "outputs": [],
   "source": [
    "#creating tensor of zero 2,3 rows and coulmns with 0 floating value\n",
    "zero=torch.zeros(2,3)\n",
    "\n",
    "#creating tensor of one  2,3 rows and coulmns with 1 floating value\n",
    "one=torch.ones(3,4)\n",
    "\n",
    "#creating tensor of empty  2,3 rows and coulmns with 0 floating value\n",
    "empty=torch.empty(2,3)"
   ]
  },
  {
   "cell_type": "code",
   "execution_count": 8,
   "id": "c08a9b47-5c86-41f0-8f8a-5885d249dd95",
   "metadata": {},
   "outputs": [
    {
     "data": {
      "text/plain": [
       "tensor([1, 0, 1, 1, 1, 0, 1, 0, 1, 1])"
      ]
     },
     "execution_count": 8,
     "metadata": {},
     "output_type": "execute_result"
    }
   ],
   "source": [
    "#torch.mulitnomial func\n",
    "#define a probablity tensor\n",
    "prob=torch.tensor([0.1,0.9])\n",
    "#these are the probabilities of each indexs and they should be add up to 1\n",
    "#The multinomial distribution helps you figure out the probability of getting a specific combination \n",
    "sample=torch.multinomial(prob,num_samples=10,replacement=True)\n",
    "sample"
   ]
  },
  {
   "cell_type": "code",
   "execution_count": null,
   "id": "4dd84e8e-3cd3-4690-b78e-32451291b9fe",
   "metadata": {},
   "outputs": [],
   "source": [
    "#torch.cat (concatenation) which is used to add to tensors\n",
    "ten1=torch.tensor([1,2,3,4])\n",
    "ten_add=torch.cat((ten1,torch.tensor([5])),dim=0)\n",
    "ten_add  "
   ]
  },
  {
   "cell_type": "code",
   "execution_count": null,
   "id": "e0bd5fc3-ea11-4d50-ac89-ea161652beae",
   "metadata": {},
   "outputs": [],
   "source": [
    "#torch.tril for upper verion and torch.triu for the lower one \n",
    "out = torch.tril(torch.ones(5,5))\n",
    "out2=torch.triu(torch.ones(5,5))"
   ]
  },
  {
   "cell_type": "code",
   "execution_count": null,
   "id": "f1ce89a8-cd9a-4e4a-9138-b278dab902b9",
   "metadata": {},
   "outputs": [],
   "source": [
    "#masked_fill is used to replace elements in a tensor based on a given mask.\n",
    "out3=torch.zeros(5,5).masked_fill(torch.tril(torch.ones(5,5))==0,float('inf'))\n",
    "out3"
   ]
  },
  {
   "cell_type": "code",
   "execution_count": null,
   "id": "e8015ca9-7521-48ff-808d-33c51c6775d2",
   "metadata": {},
   "outputs": [],
   "source": [
    "#this changes the value in tensor into the power of the input to the tensor values\n",
    "torch.exp(out3)"
   ]
  },
  {
   "cell_type": "code",
   "execution_count": null,
   "id": "f7ac3f13-5646-4395-8a1f-3e4e99fec479",
   "metadata": {},
   "outputs": [],
   "source": [
    "#stacking tensors\n",
    "ten1=torch.tensor([1,2,3,4])\n",
    "ten2=torch.tensor([3,4,2,1])\n",
    "stacked_tensor=torch.stack([ten1,ten2])\n",
    "stacked_tensor"
   ]
  },
  {
   "cell_type": "code",
   "execution_count": null,
   "id": "26b1053f-3acd-43a4-8432-d4f497fdf65a",
   "metadata": {},
   "outputs": [],
   "source": [
    "# perform the forward pass through the linear layer and provide you with the output tensor.\n",
    "import torch.nn as nn\n",
    "sample=torch.tensor([1.0,2.0,3.0])\n",
    "linear=nn.Linear(3,3,bias=False)\n",
    "print(linear(sample))"
   ]
  },
  {
   "cell_type": "code",
   "execution_count": null,
   "id": "089930ca-35f6-4ece-b1d1-eb2d86f2140f",
   "metadata": {},
   "outputs": [],
   "source": [
    "import torch.nn.functional as F\n",
    "#create a tensor\n",
    "tenx=torch.tensor([1.0,3.0,1.0])\n",
    "\n",
    "#softmax function takes a set of values (often called logits or scores) and squashes them into a set of probabilities that add up to 1. \n",
    "softmax_out=F.softmax(tenx,dim=0)\n",
    "print(softmax_out)\n",
    "#softmax return the probability distribution of exp(2.71) with respect to tensors value"
   ]
  },
  {
   "cell_type": "code",
   "execution_count": null,
   "id": "cf8f2393-a480-43d6-9fcf-423ca8bc6621",
   "metadata": {},
   "outputs": [],
   "source": [
    "#a and b are tensor of 2X3 and 3X2 matrix \n",
    "# @ is used for the dot product of a and b\n",
    "a=torch.tensor([[1,2,3],[2,3,2]])\n",
    "b=torch.tensor([[1,2],[3,2],[2,1]])\n",
    "print(b@a)"
   ]
  },
  {
   "cell_type": "code",
   "execution_count": null,
   "id": "3d72a779-cdfe-4bd0-b95d-e5ab6bbae79a",
   "metadata": {},
   "outputs": [],
   "source": [
    "int_64=torch.randint(1,10,(3,2))\n",
    "float_32=torch.rand(2,3)\n",
    "print(float_32)\n",
    "print(int_64)"
   ]
  },
  {
   "cell_type": "code",
   "execution_count": null,
   "id": "63ca2190-1133-41da-92ff-832650ad7979",
   "metadata": {},
   "outputs": [],
   "source": []
  },
  {
   "cell_type": "code",
   "execution_count": null,
   "id": "a4391f37-32cc-44eb-9985-ebeb59dce899",
   "metadata": {},
   "outputs": [],
   "source": []
  },
  {
   "cell_type": "code",
   "execution_count": null,
   "id": "ff9a4d56-8799-4866-bbb1-c8acfe133ae0",
   "metadata": {},
   "outputs": [],
   "source": []
  }
 ],
 "metadata": {
  "kernelspec": {
   "display_name": "cuda-gpt",
   "language": "python",
   "name": "cuda"
  },
  "language_info": {
   "codemirror_mode": {
    "name": "ipython",
    "version": 3
   },
   "file_extension": ".py",
   "mimetype": "text/x-python",
   "name": "python",
   "nbconvert_exporter": "python",
   "pygments_lexer": "ipython3",
   "version": "3.11.4"
  }
 },
 "nbformat": 4,
 "nbformat_minor": 5
}
